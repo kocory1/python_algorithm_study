{
 "cells": [
  {
   "cell_type": "code",
   "id": "initial_id",
   "metadata": {
    "collapsed": true,
    "ExecuteTime": {
     "end_time": "2025-01-16T07:51:32.920989Z",
     "start_time": "2025-01-16T07:51:32.902272Z"
    }
   },
   "source": [
    "from collections import defaultdict\n",
    "from typing import List\n",
    "\n",
    "strs = [\"eat\", \"tea\", \"ate\", \"nat\", \"bat\"]\n",
    "anagrams = defaultdict(list)\n",
    "\n",
    "for word in strs:\n",
    "    anagrams[''.join(sorted(word))].append(word)\n",
    "print(list(anagrams.values()))\n",
    "\n",
    "\n",
    "\n"
   ],
   "outputs": [
    {
     "name": "stdout",
     "output_type": "stream",
     "text": [
      "[['eat', 'tea', 'ate'], ['nat'], ['bat']]\n"
     ]
    }
   ],
   "execution_count": 10
  }
 ],
 "metadata": {
  "kernelspec": {
   "display_name": "Python 3",
   "language": "python",
   "name": "python3"
  },
  "language_info": {
   "codemirror_mode": {
    "name": "ipython",
    "version": 2
   },
   "file_extension": ".py",
   "mimetype": "text/x-python",
   "name": "python",
   "nbconvert_exporter": "python",
   "pygments_lexer": "ipython2",
   "version": "2.7.6"
  }
 },
 "nbformat": 4,
 "nbformat_minor": 5
}
